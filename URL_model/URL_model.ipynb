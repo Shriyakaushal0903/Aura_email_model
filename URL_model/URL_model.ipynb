{
  "cells": [
    {
      "cell_type": "code",
      "execution_count": null,
      "metadata": {
        "id": "20vZqbtLt9E4"
      },
      "outputs": [],
      "source": [
        "import pandas as pd\n",
        "import numpy as np\n",
        "import matplotlib.pyplot as plt\n",
        "import seaborn as sns"
      ],
      "id": "20vZqbtLt9E4"
    },
    {
      "cell_type": "code",
      "execution_count": null,
      "metadata": {
        "id": "dDKS_mHnt9E_"
      },
      "outputs": [],
      "source": [
        "data = pd.read_csv(\"/content/Phishing_Legitimate_full.csv\")"
      ],
      "id": "dDKS_mHnt9E_"
    },
    {
      "cell_type": "code",
      "execution_count": null,
      "metadata": {
        "id": "R4q7OltHt9FC"
      },
      "outputs": [],
      "source": [
        "data.head()"
      ],
      "id": "R4q7OltHt9FC"
    },
    {
      "cell_type": "markdown",
      "metadata": {
        "id": "Bv3zAd4St9FF"
      },
      "source": [
        "# EDA"
      ],
      "id": "Bv3zAd4St9FF"
    },
    {
      "cell_type": "code",
      "execution_count": null,
      "metadata": {
        "id": "5GN13jYVt9FI"
      },
      "outputs": [],
      "source": [
        "data.shape"
      ],
      "id": "5GN13jYVt9FI"
    },
    {
      "cell_type": "code",
      "execution_count": null,
      "metadata": {
        "id": "b14yBCI9t9FI"
      },
      "outputs": [],
      "source": [
        "data.columns"
      ],
      "id": "b14yBCI9t9FI"
    },
    {
      "cell_type": "code",
      "execution_count": null,
      "metadata": {
        "id": "4LSjfBIjt9FK"
      },
      "outputs": [],
      "source": [
        "data.dtypes"
      ],
      "id": "4LSjfBIjt9FK"
    },
    {
      "cell_type": "code",
      "execution_count": null,
      "metadata": {
        "id": "MRA7rLe1t9FL"
      },
      "outputs": [],
      "source": [
        "data.isna().sum()"
      ],
      "id": "MRA7rLe1t9FL"
    },
    {
      "cell_type": "code",
      "execution_count": null,
      "metadata": {
        "id": "NLG5_Clct9FM"
      },
      "outputs": [],
      "source": [
        "data.describe().T"
      ],
      "id": "NLG5_Clct9FM"
    },
    {
      "cell_type": "code",
      "execution_count": null,
      "metadata": {
        "id": "iQp3dK75t9FN"
      },
      "outputs": [],
      "source": [
        "data.CLASS_LABEL.value_counts()"
      ],
      "id": "iQp3dK75t9FN"
    },
    {
      "cell_type": "code",
      "execution_count": null,
      "metadata": {
        "id": "Pbe6mvqct9FO"
      },
      "outputs": [],
      "source": [
        "data['CLASS_LABEL'].value_counts().plot(kind='bar')\n",
        "plt.title('Class Label vs Count')\n",
        "plt.xlabel('Class Label')\n",
        "plt.ylabel('Count')"
      ],
      "id": "Pbe6mvqct9FO"
    },
    {
      "cell_type": "code",
      "execution_count": null,
      "metadata": {
        "id": "0Hd09pzMt9FS"
      },
      "outputs": [],
      "source": [
        "data.rename(columns={'CLASS_LABEL':'Label'},inplace=True)"
      ],
      "id": "0Hd09pzMt9FS"
    },
    {
      "cell_type": "code",
      "execution_count": null,
      "metadata": {
        "id": "ePedWSJVt9FT"
      },
      "outputs": [],
      "source": [
        "data['Label'].value_counts().plot(kind='pie')"
      ],
      "id": "ePedWSJVt9FT"
    },
    {
      "cell_type": "code",
      "execution_count": null,
      "metadata": {
        "id": "JHflBN-Vt9FU"
      },
      "outputs": [],
      "source": [
        "def discrete_univariate_analysis(data, feature):\n",
        "    total = len(data[feature])\n",
        "    count = data[feature].nunique()\n",
        "    plt.figure(figsize=(count+1, 5))\n",
        "    plt.xticks(rotation = 90, fontsize=15)\n",
        "    ax = sns.countplot(data=data, x=feature, palette='flare', order = \\\n",
        "        data[feature].value_counts().index.sort_values(ascending = False))\n",
        "    for p in ax.patches:\n",
        "        label = \"{:.1f}%\".format(100*p.get_height()/total)\n",
        "        x = p.get_x()+p.get_width()/2\n",
        "        y = p.get_height()\n",
        "        ax.annotate(label, (x,y), ha=\"center\", va=\"center\", size=12, xytext=(0,5), textcoords=\"offset points\")\n",
        "    plt.show()"
      ],
      "id": "JHflBN-Vt9FU"
    },
    {
      "cell_type": "code",
      "execution_count": null,
      "metadata": {
        "id": "I669BWZmt9FV"
      },
      "outputs": [],
      "source": [
        "discrete_univariate_analysis(data, 'Label')"
      ],
      "id": "I669BWZmt9FV"
    },
    {
      "cell_type": "code",
      "execution_count": null,
      "metadata": {
        "id": "ssp1DeCit9FW"
      },
      "outputs": [],
      "source": [
        "data.corr()"
      ],
      "id": "ssp1DeCit9FW"
    },
    {
      "cell_type": "code",
      "execution_count": null,
      "metadata": {
        "id": "b8kFbJvVt9FX"
      },
      "outputs": [],
      "source": [
        "def heatmap(data,start_index,end_index):\n",
        "    new_data=pd.DataFrame(data.iloc[:,start_index:end_index])\n",
        "    plt.figure(figsize=(10,8))\n",
        "    sns.heatmap(new_data.corr(),annot=True,fmt='.2f')"
      ],
      "id": "b8kFbJvVt9FX"
    },
    {
      "cell_type": "code",
      "execution_count": null,
      "metadata": {
        "id": "aRfU39emt9FX"
      },
      "outputs": [],
      "source": [
        "heatmap(data,0,10)"
      ],
      "id": "aRfU39emt9FX"
    },
    {
      "cell_type": "code",
      "execution_count": null,
      "metadata": {
        "id": "P07Eh9lYt9FY"
      },
      "outputs": [],
      "source": [
        "heatmap(data,10,20)"
      ],
      "id": "P07Eh9lYt9FY"
    },
    {
      "cell_type": "code",
      "execution_count": null,
      "metadata": {
        "id": "jMFZOMxEt9FZ"
      },
      "outputs": [],
      "source": [
        "heatmap(data,20,30)"
      ],
      "id": "jMFZOMxEt9FZ"
    },
    {
      "cell_type": "code",
      "execution_count": null,
      "metadata": {
        "id": "-QRWdbURt9FZ"
      },
      "outputs": [],
      "source": [
        "heatmap(data,30,40)"
      ],
      "id": "-QRWdbURt9FZ"
    },
    {
      "cell_type": "code",
      "execution_count": null,
      "metadata": {
        "id": "fWVYIkB2t9Fa"
      },
      "outputs": [],
      "source": [
        "heatmap(data,40,50)"
      ],
      "id": "fWVYIkB2t9Fa"
    },
    {
      "cell_type": "code",
      "execution_count": null,
      "metadata": {
        "id": "FcygnsZst9Fa"
      },
      "outputs": [],
      "source": [
        "x=data.drop(columns=['id','Label'],axis=1)\n",
        "y=data['Label']"
      ],
      "id": "FcygnsZst9Fa"
    },
    {
      "cell_type": "code",
      "execution_count": null,
      "metadata": {
        "id": "abHSC5lPt9Fb"
      },
      "outputs": [],
      "source": [
        "from sklearn.model_selection import train_test_split\n",
        "x_train,x_test,y_train,y_test=train_test_split(x,y,test_size=0.3,random_state=42)"
      ],
      "id": "abHSC5lPt9Fb"
    },
    {
      "cell_type": "code",
      "execution_count": null,
      "metadata": {
        "id": "j80836xwt9Fb"
      },
      "outputs": [],
      "source": [
        "x_train\n",
        "x_train.columns"
      ],
      "id": "j80836xwt9Fb"
    },
    {
      "cell_type": "code",
      "execution_count": null,
      "metadata": {
        "id": "QBgqCbnLt9Fc"
      },
      "outputs": [],
      "source": [
        "x_test"
      ],
      "id": "QBgqCbnLt9Fc"
    },
    {
      "cell_type": "code",
      "execution_count": null,
      "metadata": {
        "id": "YTca5HqKt9Fc"
      },
      "outputs": [],
      "source": [
        "y_train"
      ],
      "id": "YTca5HqKt9Fc"
    },
    {
      "cell_type": "code",
      "execution_count": null,
      "metadata": {
        "id": "DZQ8S3sqt9Fd"
      },
      "outputs": [],
      "source": [
        "y_test"
      ],
      "id": "DZQ8S3sqt9Fd"
    },
    {
      "cell_type": "markdown",
      "metadata": {
        "id": "mOz0xGqrt9Fd"
      },
      "source": [
        "We will now use mutual information classifier to find non-linear and linear correlation between the features and \"Label\""
      ],
      "id": "mOz0xGqrt9Fd"
    },
    {
      "cell_type": "code",
      "execution_count": null,
      "metadata": {
        "id": "gKtSdf2Qt9Fe"
      },
      "outputs": [],
      "source": [
        "from sklearn.feature_selection import mutual_info_classif"
      ],
      "id": "gKtSdf2Qt9Fe"
    },
    {
      "cell_type": "code",
      "execution_count": null,
      "metadata": {
        "id": "_RWa0C1yt9Fe"
      },
      "outputs": [],
      "source": [
        "x=data.drop(['id','Label'],axis=1)"
      ],
      "id": "_RWa0C1yt9Fe"
    },
    {
      "cell_type": "code",
      "execution_count": null,
      "metadata": {
        "id": "oHWZDmwgt9Fg"
      },
      "outputs": [],
      "source": [
        "y=data['Label']"
      ],
      "id": "oHWZDmwgt9Fg"
    },
    {
      "cell_type": "code",
      "execution_count": null,
      "metadata": {
        "id": "oCmOT-L1t9Fi"
      },
      "outputs": [],
      "source": [
        "discrete_features = x.dtypes ==int"
      ],
      "id": "oCmOT-L1t9Fi"
    },
    {
      "cell_type": "code",
      "execution_count": null,
      "metadata": {
        "id": "PCnzBLPDt9Fi"
      },
      "outputs": [],
      "source": [
        "mi_scores = mutual_info_classif(x, y, discrete_features=discrete_features)\n",
        "mi_scores = pd.Series(mi_scores, name='MI Scores', index=x.columns)\n",
        "mi_scores = mi_scores.sort_values(ascending=False)\n",
        "mi_scores"
      ],
      "id": "PCnzBLPDt9Fi"
    },
    {
      "cell_type": "code",
      "execution_count": null,
      "metadata": {
        "id": "Bz5IgjEAt9Fj"
      },
      "outputs": [],
      "source": [
        "def plot_mi_scores(scores):\n",
        "    scores = scores.sort_values(ascending=True)\n",
        "    width = np.arange(len(scores))\n",
        "    ticks = list(scores.index)\n",
        "    plt.barh(width,scores)\n",
        "    plt.yticks(width,ticks)\n",
        "    plt.title(\"Mi Scores\")"
      ],
      "id": "Bz5IgjEAt9Fj"
    },
    {
      "cell_type": "code",
      "execution_count": null,
      "metadata": {
        "id": "Stl2pYvUt9Fk"
      },
      "outputs": [],
      "source": [
        "plt.figure(dpi=100, figsize=(12,12))\n",
        "plot_mi_scores(mi_scores)"
      ],
      "id": "Stl2pYvUt9Fk"
    },
    {
      "cell_type": "markdown",
      "metadata": {
        "id": "bWiJ-WuHt9Fk"
      },
      "source": [
        "# Logistic Regression"
      ],
      "id": "bWiJ-WuHt9Fk"
    },
    {
      "cell_type": "code",
      "execution_count": null,
      "metadata": {
        "id": "nDG0dLhot9Fk"
      },
      "outputs": [],
      "source": [
        "from sklearn.linear_model import LogisticRegression\n",
        "from sklearn.ensemble import RandomForestClassifier as Rfc\n",
        "from sklearn.model_selection import train_test_split\n",
        "from sklearn.metrics import accuracy_score, precision_score, recall_score, f1_score"
      ],
      "id": "nDG0dLhot9Fk"
    },
    {
      "cell_type": "code",
      "execution_count": null,
      "metadata": {
        "id": "1z13OLyZt9Fl"
      },
      "outputs": [],
      "source": [
        "def train_logistic(data, top_n):\n",
        "    top_n_features= mi_scores.sort_values(ascending=False).head(top_n).index.tolist()\n",
        "    x=data[top_n_features]\n",
        "    y= data['Label']\n",
        "\n",
        "    x_train, x_test, y_train, y_test =train_test_split(x, y, test_size=0.2, shuffle=True)\n",
        "\n",
        "    LR = LogisticRegression(max_iter=10000)\n",
        "    LR.fit(x_train, y_train)\n",
        "\n",
        "    y_pred= LR.predict(x_test)\n",
        "\n",
        "    precision=precision_score(y_test, y_pred)\n",
        "    recall=recall_score(y_test, y_pred)\n",
        "    f1=f1_score(y_test, y_pred)\n",
        "    accuracy=accuracy_score(y_test, y_pred)\n",
        "\n",
        "    return precision, recall,f1,accuracy"
      ],
      "id": "1z13OLyZt9Fl"
    },
    {
      "cell_type": "code",
      "execution_count": null,
      "metadata": {
        "id": "ITiGmzALt9Fm"
      },
      "outputs": [],
      "source": [
        "arr=[]\n",
        "for i in range(15,51,1):\n",
        "    precision,recall,f1,accuracy=train_logistic(data,i)\n",
        "    print(\"performance for logistic Model with Top {} features is precision :{}, recall :{}, f1 score :{}, accuracy :{}\".format(i,precision,recall,f1,accuracy))\n",
        "    arr.append([i,precision,recall,f1,accuracy])"
      ],
      "id": "ITiGmzALt9Fm"
    },
    {
      "cell_type": "code",
      "execution_count": null,
      "metadata": {
        "id": "CSwAWAYgt9Fn"
      },
      "outputs": [],
      "source": [
        "df = pd.DataFrame(arr,columns=['num_of_features','precision','recall','f1_score','accuracy'])\n",
        "df"
      ],
      "id": "CSwAWAYgt9Fn"
    },
    {
      "cell_type": "code",
      "execution_count": null,
      "metadata": {
        "id": "i_VjDEDKt9Fw"
      },
      "outputs": [],
      "source": [
        "sns.lineplot(x='num_of_features', y='precision', data=df, label='Precision Score')\n",
        "sns.lineplot(x='num_of_features', y='recall', data=df, label='Recall Score')\n",
        "sns.lineplot(x='num_of_features', y='f1_score', data=df, label='F1 Score')\n",
        "sns.lineplot(x='num_of_features', y='accuracy', data=df, label='Acc Score')"
      ],
      "id": "i_VjDEDKt9Fw"
    },
    {
      "cell_type": "markdown",
      "metadata": {
        "id": "rsw9o6QQt9Fw"
      },
      "source": [
        "# Random Forest Classification"
      ],
      "id": "rsw9o6QQt9Fw"
    },
    {
      "cell_type": "code",
      "execution_count": null,
      "metadata": {
        "id": "6Rj0ztnFt9Fx"
      },
      "outputs": [],
      "source": [
        "def train_rfc(data, top_n):\n",
        "    top_n_features = mi_scores.sort_values(ascending=False).head(top_n).index.tolist()\n",
        "    X=data[top_n_features]\n",
        "    у=data['Label']\n",
        "\n",
        "    x_train, x_test, y_train, y_test= train_test_split(x, y, test_size=0.2, shuffle=True)\n",
        "\n",
        "    rfc= Rfc(n_estimators=500,\n",
        "             max_depth=32,\n",
        "             max_features=1.0,\n",
        "            )\n",
        "\n",
        "    rfc.fit(x_train, y_train)\n",
        "\n",
        "    y_pred = rfc.predict(x_test)\n",
        "\n",
        "    precision = precision_score(y_test, y_pred)\n",
        "    recall = recall_score(y_test, y_pred)\n",
        "    f1 = f1_score(y_test, y_pred)\n",
        "    accuracy = accuracy_score(y_test, y_pred)\n",
        "\n",
        "    return precision, recall,f1,accuracy"
      ],
      "id": "6Rj0ztnFt9Fx"
    },
    {
      "cell_type": "code",
      "execution_count": null,
      "metadata": {
        "id": "BszHD0hHt9F4"
      },
      "outputs": [],
      "source": [
        "arr=[]\n",
        "for i in range(15,51,1):\n",
        "    precision,recall,f1,accuracy=train_rfc(data,i)\n",
        "    print(\"performance for logistic Model with Top {} features is precision :{}, recall :{}, f1 score :{}, accuracy :{}\".format(i,precision,recall,f1,accuracy))\n",
        "    arr.append([i,precision,recall,f1,accuracy])"
      ],
      "id": "BszHD0hHt9F4"
    },
    {
      "cell_type": "code",
      "execution_count": null,
      "metadata": {
        "id": "ZYgX87I0t9F4"
      },
      "outputs": [],
      "source": [
        "df = pd.DataFrame(arr,columns=['num_of_features','precision','recall','f1_score','accuracy'])\n",
        "df"
      ],
      "id": "ZYgX87I0t9F4"
    },
    {
      "cell_type": "code",
      "execution_count": null,
      "metadata": {
        "id": "z7eFTffgt9F4"
      },
      "outputs": [],
      "source": [
        "sns.lineplot(x='num_of_features', y='precision', data=df, label='Precision Score')\n",
        "sns.lineplot(x='num_of_features', y='recall', data=df, label='Recall Score')\n",
        "sns.lineplot(x='num_of_features', y='f1_score', data=df, label='F1 Score')\n",
        "sns.lineplot(x='num_of_features', y='accuracy', data=df, label='Acc Score')"
      ],
      "id": "z7eFTffgt9F4"
    },
    {
      "cell_type": "code",
      "execution_count": null,
      "metadata": {
        "id": "5Mx2MRS-t9F-"
      },
      "outputs": [],
      "source": [
        "top_n_features = mi_scores.sort_values(ascending=False).head(27).index.tolist()\n",
        "x = data[top_n_features]\n",
        "y = data['Label']\n",
        "\n",
        "x_train, x_test, y_train, y_test =train_test_split(x, y, test_size=0.2, shuffle=True)\n",
        "\n",
        "rfc= Rfc(n_estimators=500,\n",
        "         max_depth=32,\n",
        "         max_features=1.0,\n",
        "        )\n",
        "\n",
        "rfc.fit(x_train, y_train)\n",
        "\n",
        "y_pred = rfc.predict(x_test,)\n",
        "\n",
        "precision = precision_score(y_test,y_pred)\n",
        "recall = recall_score(y_test,y_pred)\n",
        "f1=f1_score(y_test,y_pred)\n",
        "accuracy = accuracy_score(y_test,y_pred)\n",
        "\n",
        "print(\"performance for logistic Model with Top {} features is precision :{}, recall :{}, f1 score :{}, accuracy :{}\".format(27,precision,recall,f1,accuracy))"
      ],
      "id": "5Mx2MRS-t9F-"
    },
    {
      "cell_type": "code",
      "execution_count": null,
      "metadata": {
        "id": "A7ST2A8Ct9F_"
      },
      "outputs": [],
      "source": [
        "from sklearn.metrics import classification_report\n",
        "print(classification_report(y_test,y_pred))"
      ],
      "id": "A7ST2A8Ct9F_"
    },
    {
      "cell_type": "markdown",
      "metadata": {
        "id": "LKNnQ23jt9GA"
      },
      "source": [
        "# KNN"
      ],
      "id": "LKNnQ23jt9GA"
    },
    {
      "cell_type": "code",
      "execution_count": null,
      "metadata": {
        "id": "7mKM1HT-t9GG"
      },
      "outputs": [],
      "source": [
        "from sklearn.neighbors import KNeighborsClassifier\n",
        "k_near = KNeighborsClassifier(n_neighbors=1)"
      ],
      "id": "7mKM1HT-t9GG"
    },
    {
      "cell_type": "code",
      "execution_count": null,
      "metadata": {
        "id": "QF_LeRdYt9GG"
      },
      "outputs": [],
      "source": [
        "k_near.fit(x_train,y_train)\n",
        "\n",
        "Y_pre_test = k_near.predict(x_test)\n",
        "Y_pre_train = k_near.predict(x_train)"
      ],
      "id": "QF_LeRdYt9GG"
    },
    {
      "cell_type": "code",
      "execution_count": null,
      "metadata": {
        "id": "Uq-ERrD7t9GH"
      },
      "outputs": [],
      "source": [
        "train_accuracy_KNN = (accuracy_score(Y_pre_train, y_train))*100\n",
        "print('Accuracy for train dataset for K-neariest :%2.f '% train_accuracy_KNN , '%')\n",
        "\n",
        "test_accuracy_KNN = (accuracy_score(Y_pre_test, y_test))*100\n",
        "print('Accuracy for test dataset for K-neariest :%2.f '% test_accuracy_KNN , '%')"
      ],
      "id": "Uq-ERrD7t9GH"
    },
    {
      "cell_type": "code",
      "execution_count": null,
      "metadata": {
        "id": "q7THz99Yt9GN"
      },
      "outputs": [],
      "source": [
        "print(classification_report(y_test, Y_pre_test))"
      ],
      "id": "q7THz99Yt9GN"
    },
    {
      "cell_type": "markdown",
      "metadata": {
        "id": "o1bFXfkMt9GO"
      },
      "source": [
        "# Naive Bayes"
      ],
      "id": "o1bFXfkMt9GO"
    },
    {
      "cell_type": "code",
      "execution_count": null,
      "metadata": {
        "id": "hESUybyrt9GO"
      },
      "outputs": [],
      "source": [
        "from sklearn.naive_bayes import GaussianNB\n",
        "gnb = GaussianNB()"
      ],
      "id": "hESUybyrt9GO"
    },
    {
      "cell_type": "code",
      "execution_count": null,
      "metadata": {
        "id": "dqWxabAmt9GP"
      },
      "outputs": [],
      "source": [
        "gnb.fit(x_train,y_train)\n",
        "\n",
        "Y_pre_test = gnb.predict(x_test)\n",
        "Y_pre_train = gnb.predict(x_train)"
      ],
      "id": "dqWxabAmt9GP"
    },
    {
      "cell_type": "code",
      "execution_count": null,
      "metadata": {
        "id": "Myzz6Kg8t9GV"
      },
      "outputs": [],
      "source": [
        "train_accuracy_NB = (accuracy_score(Y_pre_train, y_train))*100\n",
        "print('Accuracy for train dataset for Naive Bayes : %.2f ' % train_accuracy_NB ,'%')\n",
        "\n",
        "test_accuracy_NB = (accuracy_score(Y_pre_test, y_test))*100\n",
        "print('Accuracy for test dataset for Naive Bayes : %.2f ' % test_accuracy_NB ,'%')"
      ],
      "id": "Myzz6Kg8t9GV"
    },
    {
      "cell_type": "code",
      "execution_count": null,
      "metadata": {
        "id": "SmO1__hot9GV"
      },
      "outputs": [],
      "source": [
        "print(classification_report(y_test, Y_pre_test))"
      ],
      "id": "SmO1__hot9GV"
    },
    {
      "cell_type": "code",
      "source": [
        "import joblib\n",
        "\n",
        "# Store each model and its F1 score\n",
        "model_scores = {}\n",
        "\n",
        "# Logistic Regression\n",
        "from sklearn.linear_model import LogisticRegression\n",
        "lr = LogisticRegression(max_iter=10000)\n",
        "lr.fit(x_train, y_train)\n",
        "lr_f1 = f1_score(y_test, lr.predict(x_test))\n",
        "model_scores['LogisticRegression'] = (lr_f1, lr)\n",
        "\n",
        "# Random Forest\n",
        "from sklearn.ensemble import RandomForestClassifier\n",
        "rfc = RandomForestClassifier(n_estimators=500, max_depth=32, max_features=1.0)\n",
        "rfc.fit(x_train, y_train)\n",
        "rfc_f1 = f1_score(y_test, rfc.predict(x_test))\n",
        "model_scores['RandomForest'] = (rfc_f1, rfc)\n",
        "\n",
        "# K-Nearest Neighbors\n",
        "from sklearn.neighbors import KNeighborsClassifier\n",
        "knn = KNeighborsClassifier(n_neighbors=1)\n",
        "knn.fit(x_train, y_train)\n",
        "knn_f1 = f1_score(y_test, knn.predict(x_test))\n",
        "model_scores['KNN'] = (knn_f1, knn)\n",
        "\n",
        "# Naive Bayes\n",
        "from sklearn.naive_bayes import GaussianNB\n",
        "nb = GaussianNB()\n",
        "nb.fit(x_train, y_train)\n",
        "nb_f1 = f1_score(y_test, nb.predict(x_test))\n",
        "model_scores['NaiveBayes'] = (nb_f1, nb)\n",
        "\n",
        "# ✅ Select the best model based on F1 score\n",
        "best_model_name = max(model_scores, key=lambda k: model_scores[k][0])\n",
        "best_f1_score, best_model = model_scores[best_model_name]\n",
        "\n",
        "print(f\"\\n✅ Best Model: {best_model_name} with F1 Score: {best_f1_score:.4f}\")\n",
        "joblib.dump(best_model, \"best_phishing_model.pkl\")\n",
        "print(\"✅ Model saved as 'best_phishing_model.pkl'\")\n"
      ],
      "metadata": {
        "id": "jnsWxzge0Nom"
      },
      "id": "jnsWxzge0Nom",
      "execution_count": null,
      "outputs": []
    },
    {
      "cell_type": "code",
      "source": [
        "import re\n",
        "from urllib.parse import urlparse\n",
        "import pandas as pd\n",
        "import joblib\n",
        "\n",
        "# Feature extraction function with specified features\n",
        "def extract_features_from_url(url):\n",
        "    parsed = urlparse(url)\n",
        "    hostname = parsed.hostname or \"\"\n",
        "    path = parsed.path or \"\"\n",
        "    query = parsed.query or \"\"\n",
        "\n",
        "    features = {\n",
        "        \"PctExtHyperlinks\": 0,  # Placeholder, requires link analysis\n",
        "        \"PctExtResourceUrls\": 0,  # Placeholder, requires resource URL analysis\n",
        "        \"PctNullSelfRedirectHyperlinks\": 0,  # Placeholder\n",
        "        \"PctExtNullSelfRedirectHyperlinksRT\": 0,  # Placeholder\n",
        "        \"NumNumericChars\": sum(c.isdigit() for c in url),\n",
        "        \"FrequentDomainNameMismatch\": 0,  # Placeholder\n",
        "        \"ExtMetaScriptLinkRT\": 0,  # Placeholder\n",
        "        \"NumDash\": url.count('-'),\n",
        "        \"SubmitInfoToEmail\": 0,  # Placeholder\n",
        "        \"NumDots\": url.count('.'),\n",
        "        \"PathLength\": len(path),\n",
        "        \"QueryLength\": len(query),\n",
        "        \"PathLevel\": path.count('/'),\n",
        "        \"InsecureForms\": 0,  # Placeholder\n",
        "        \"UrlLength\": len(url),\n",
        "        \"NumSensitiveWords\": 0,  # Placeholder\n",
        "        \"NumQueryComponents\": len(query.split('&')) if query else 0,\n",
        "        \"PctExtResourceUrlsRT\": 0,  # Placeholder\n",
        "        \"IframeOrFrame\": 0,  # Placeholder\n",
        "        \"HostnameLength\": len(hostname),\n",
        "        \"NumAmpersand\": url.count('&'),\n",
        "        \"AbnormalExtFormActionR\": 0,  # Placeholder\n",
        "        \"UrlLengthRT\": 0,  # Placeholder\n",
        "        \"NumDashInHostname\": hostname.count('-'),\n",
        "        \"IpAddress\": int(re.match(r'\\d+\\.\\d+\\.\\d+\\.\\d+', hostname or \"\") is not None),\n",
        "        \"AbnormalFormAction\": 0,  # Placeholder\n",
        "        \"EmbeddedBrandName\": 0  # Placeholder\n",
        "    }\n",
        "\n",
        "    return features\n",
        "\n",
        "# Prediction function\n",
        "def predict_phishing(url):\n",
        "    # Extract features\n",
        "    features = extract_features_from_url(url)\n",
        "\n",
        "    # Load the trained Random Forest model\n",
        "    model = joblib.load(\"/content/best_phishing_model.pkl\")\n",
        "\n",
        "    # Convert features to DataFrame using the exact feature names\n",
        "    feature_df = pd.DataFrame([features])\n",
        "\n",
        "    # Predict\n",
        "    prediction = model.predict(feature_df)[0]\n",
        "    label = \"Phishing\" if prediction == 1 else \"Legitimate\"\n",
        "\n",
        "    return label\n",
        "\n",
        "# Test examples including the difficult phishing example\n",
        "test_urls = [\n",
        "    \"https://www.google.com\",  # Genuine\n",
        "    \"https://www.paypal.com/signin\",  # Genuine\n",
        "    \"https://www.amazon.com/account\",  # Genuine\n",
        "    \"http://secure-login-paypal.com.login.phishingsite.org/update.php?user=123\",  # Fake\n",
        "    \"https://www.g00gle.com-login.verify-account.com\",  # Fake\n",
        "    \"http://bankofamerica.security-update2025.com/login?verify=now&id=456\",  # Fake\n",
        "    \"https://login.accounts.paypal.com-secure.verify-service.co.uk/update/profile?session=abc123&action=verify\",  # Fake\n",
        "    \"https://www.microsoft.com/en-us/account\",  # Genuine\n",
        "    \"https://www.ebay.com/sell\",  # Genuine\n",
        "    \"https://www.apple.com/support\",  # Genuine\n",
        "    \"https://secure.update.account-paypal.co.validate-service.net/login?token=x7k9p\",  # Fake\n",
        "    \"https://login.bankofamerica.online-security.check.co/login-page.html?ref=secure\",  # Fake\n",
        "    \"https://www.faceb00k.com-verify.user.auth.network/profile/setup?step=2&id=789\",  # Fake\n",
        "    \"https://www.nationalgeographic.org/expeditions/arctic-2025\",  # Genuine\n",
        "    \"https://www.redcross.org.uk/donate/emergency-appeal-2025\",  # Genuine\n",
        "    \"https://www.tesla.com.cn/model-y/design-studio\",  # Genuine\n",
        "    \"https://auth.userpanel.gitlab.io-secure.backup-sys.net/reset-password?code=xyz789\",  # Fake\n",
        "    \"https://secure.vpn-service.nordvpn.com-login.checkpoint.world/verify-email.html?track=secureid\",  # Fake\n",
        "    \"https://www.shopify.store-admin.update-qr2025.com/access?token=jkl456&mode=admin\"  # Fake\n",
        "    \"https://auth.clientarea.paypal.com.security.verification.global-services.co/login-process?session-id=7k9p2m&verify=step1\",  # Fake\n",
        "    \"https://secure.account-management.wellsfargo.com-verify.network.intl/login?auth-token=xyz-123-pqrs&redirect=secure\",  # Fake\n",
        "    \"https://api.userportal.netflix.com-premium.support.global/access-control?profile=update&session=abc987&lang=en-us\"  # Fake\n",
        "]\n",
        "\n",
        "\n",
        "# Run predictions\n",
        "for url in test_urls:\n",
        "    try:\n",
        "        result = predict_phishing(url)\n",
        "        print(f\"URL: {url} → {result}\")\n",
        "    except Exception as e:\n",
        "        print(f\"URL: {url} → Error: {e}\")"
      ],
      "metadata": {
        "colab": {
          "base_uri": "https://localhost:8080/"
        },
        "id": "XDwHGLeG0-ve",
        "outputId": "c8a8899d-ecac-45af-d108-499685987dec"
      },
      "id": "XDwHGLeG0-ve",
      "execution_count": 78,
      "outputs": [
        {
          "output_type": "stream",
          "name": "stdout",
          "text": [
            "URL: https://www.google.com → Legitimate\n",
            "URL: https://www.paypal.com/signin → Legitimate\n",
            "URL: https://www.amazon.com/account → Legitimate\n",
            "URL: http://secure-login-paypal.com.login.phishingsite.org/update.php?user=123 → Phishing\n",
            "URL: https://www.g00gle.com-login.verify-account.com → Phishing\n",
            "URL: http://bankofamerica.security-update2025.com/login?verify=now&id=456 → Legitimate\n",
            "URL: https://login.accounts.paypal.com-secure.verify-service.co.uk/update/profile?session=abc123&action=verify → Phishing\n",
            "URL: https://www.microsoft.com/en-us/account → Phishing\n",
            "URL: https://www.ebay.com/sell → Legitimate\n",
            "URL: https://www.apple.com/support → Legitimate\n",
            "URL: https://secure.update.account-paypal.co.validate-service.net/login?token=x7k9p → Phishing\n",
            "URL: https://login.bankofamerica.online-security.check.co/login-page.html?ref=secure → Phishing\n",
            "URL: https://www.faceb00k.com-verify.user.auth.network/profile/setup?step=2&id=789 → Phishing\n",
            "URL: https://www.nationalgeographic.org/expeditions/arctic-2025 → Legitimate\n",
            "URL: https://www.redcross.org.uk/donate/emergency-appeal-2025 → Legitimate\n",
            "URL: https://www.tesla.com.cn/model-y/design-studio → Legitimate\n",
            "URL: https://auth.userpanel.gitlab.io-secure.backup-sys.net/reset-password?code=xyz789 → Phishing\n",
            "URL: https://secure.vpn-service.nordvpn.com-login.checkpoint.world/verify-email.html?track=secureid → Phishing\n",
            "URL: https://www.shopify.store-admin.update-qr2025.com/access?token=jkl456&mode=adminhttps://auth.clientarea.paypal.com.security.verification.global-services.co/login-process?session-id=7k9p2m&verify=step1 → Phishing\n",
            "URL: https://secure.account-management.wellsfargo.com-verify.network.intl/login?auth-token=xyz-123-pqrs&redirect=secure → Phishing\n",
            "URL: https://api.userportal.netflix.com-premium.support.global/access-control?profile=update&session=abc987&lang=en-us → Phishing\n"
          ]
        }
      ]
    }
  ],
  "metadata": {
    "kernelspec": {
      "display_name": "Python 3",
      "name": "python3"
    },
    "language_info": {
      "codemirror_mode": {
        "name": "ipython",
        "version": 3
      },
      "file_extension": ".py",
      "mimetype": "text/x-python",
      "name": "python",
      "nbconvert_exporter": "python",
      "pygments_lexer": "ipython3",
      "version": "3.8.5"
    },
    "colab": {
      "provenance": [],
      "gpuType": "T4"
    },
    "accelerator": "GPU"
  },
  "nbformat": 4,
  "nbformat_minor": 5
}